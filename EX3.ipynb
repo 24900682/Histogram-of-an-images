{
 "cells": [
  {
   "cell_type": "markdown",
   "id": "423cbe22-85d0-45a1-804a-3940231b82a7",
   "metadata": {},
   "source": [
    "# EXP-3 Histogram-of-an-images\n",
    "**NAME:** **ASWIN.L**\n",
    "**REG NO:** **212224230028**"
   ]
  },
  {
   "cell_type": "code",
   "execution_count": null,
   "id": "70bf286c-9613-42d7-9b8a-4bdf24b3dcc6",
   "metadata": {},
   "outputs": [],
   "source": [
    "V"
   ]
  }
 ],
 "metadata": {
  "kernelspec": {
   "display_name": "Python 3 (ipykernel)",
   "language": "python",
   "name": "python3"
  },
  "language_info": {
   "codemirror_mode": {
    "name": "ipython",
    "version": 3
   },
   "file_extension": ".py",
   "mimetype": "text/x-python",
   "name": "python",
   "nbconvert_exporter": "python",
   "pygments_lexer": "ipython3",
   "version": "3.13.5"
  }
 },
 "nbformat": 4,
 "nbformat_minor": 5
}
